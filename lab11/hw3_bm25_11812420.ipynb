{
 "cells": [
  {
   "cell_type": "code",
   "execution_count": null,
   "metadata": {
    "collapsed": true
   },
   "outputs": [],
   "source": [
    "from math import log\n",
    "\n",
    "def weighted_tf(tf, d_len, avg_len):\n",
    "    return 2 * tf / (0.25 + 0.75 * d_len / avg_len + tf)\n",
    "\n",
    "def idf(df, n):\n",
    "    if df == 0:\n",
    "        return 0\n",
    "    return log(n / df, 10)\n",
    "\n",
    "def hw3_bm25_11812420(query, doc_len = {}, dictionary = {}):\n",
    "    avg_doc_len = 0\n",
    "    doc_num = len(doc_len)\n",
    "    for dl in doc_len:\n",
    "        avg_doc_len = avg_doc_len + dl / doc_num\n",
    "\n",
    "    candidate = {}\n",
    "    for k in query:\n",
    "        df = len(dictionary[k])\n",
    "        for did, tf in dictionary[k]:\n",
    "            if did not in candidate.keys():\n",
    "                candidate[did] = 0\n",
    "            candidate[did] = candidate[did] + weighted_tf(tf, doc_len[did], avg_doc_len) * idf(df, doc_num)\n",
    "\n",
    "    candidate = sorted(candidate.items(), key= lambda x: (x[1]), reverse= True)\n",
    "    return candidate[:10]\n",
    "\n"
   ]
  }
 ],
 "metadata": {
  "kernelspec": {
   "display_name": "Python 3",
   "language": "python",
   "name": "python3"
  },
  "language_info": {
   "codemirror_mode": {
    "name": "ipython",
    "version": 2
   },
   "file_extension": ".py",
   "mimetype": "text/x-python",
   "name": "python",
   "nbconvert_exporter": "python",
   "pygments_lexer": "ipython2",
   "version": "2.7.6"
  }
 },
 "nbformat": 4,
 "nbformat_minor": 0
}