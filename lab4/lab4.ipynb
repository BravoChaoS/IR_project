{
 "cells": [
  {
   "cell_type": "code",
   "execution_count": null,
   "metadata": {
    "collapsed": true
   },
   "outputs": [],
   "source": [
    "path = 'C:/BCSpace/study/ThisSemester/Information Retrieval/lab/lab4/inverted_index_lab4.csv'\n",
    "inverted_index = {}\n",
    "trigram_index = {}\n",
    "query = ''\n",
    "\n",
    "\n",
    "def get_gram_set(w):\n",
    "    s = []\n",
    "    for i in range(len(w) - 2):\n",
    "        s.append(w[i:i + 3])\n",
    "    return s\n",
    "\n",
    "\n",
    "def get_jaccard_coefficient(gram_set1, gram_set2):\n",
    "    intersection = 0\n",
    "    for i in gram_set1:\n",
    "        if i in gram_set2:\n",
    "            intersection = intersection + 1\n",
    "    return float(intersection) / (len(gram_set1) + len(gram_set2) - intersection)\n"
   ]
  },
  {
   "cell_type": "code",
   "execution_count": 1,
   "metadata": {
    "collapsed": true
   },
   "outputs": [
    {
     "ename": "NameError",
     "evalue": "name 'path' is not defined",
     "traceback": [
      "\u001B[1;31m---------------------------------------------------------------------------\u001B[0m",
      "\u001B[1;31mNameError\u001B[0m                                 Traceback (most recent call last)",
      "\u001B[1;32m<ipython-input-1-10010307bf38>\u001B[0m in \u001B[0;36m<module>\u001B[1;34m\u001B[0m\n\u001B[1;32m----> 1\u001B[1;33m \u001B[1;32mwith\u001B[0m \u001B[0mopen\u001B[0m\u001B[1;33m(\u001B[0m\u001B[0mpath\u001B[0m\u001B[1;33m,\u001B[0m \u001B[1;34m'r'\u001B[0m\u001B[1;33m)\u001B[0m \u001B[1;32mas\u001B[0m \u001B[0mf\u001B[0m\u001B[1;33m:\u001B[0m\u001B[1;33m\u001B[0m\u001B[1;33m\u001B[0m\u001B[0m\n\u001B[0m\u001B[0;32m      2\u001B[0m     \u001B[1;32mfor\u001B[0m \u001B[0mline\u001B[0m \u001B[1;32min\u001B[0m \u001B[0mf\u001B[0m\u001B[1;33m:\u001B[0m\u001B[1;33m\u001B[0m\u001B[1;33m\u001B[0m\u001B[0m\n\u001B[0;32m      3\u001B[0m         \u001B[0mwords\u001B[0m \u001B[1;33m=\u001B[0m \u001B[0mline\u001B[0m\u001B[1;33m.\u001B[0m\u001B[0mstrip\u001B[0m\u001B[1;33m(\u001B[0m\u001B[1;34m'\\n'\u001B[0m\u001B[1;33m)\u001B[0m\u001B[1;33m.\u001B[0m\u001B[0mlower\u001B[0m\u001B[1;33m(\u001B[0m\u001B[1;33m)\u001B[0m\u001B[1;33m.\u001B[0m\u001B[0msplit\u001B[0m\u001B[1;33m(\u001B[0m\u001B[1;34m','\u001B[0m\u001B[1;33m)\u001B[0m\u001B[1;33m\u001B[0m\u001B[1;33m\u001B[0m\u001B[0m\n\u001B[0;32m      4\u001B[0m         \u001B[0minverted_index\u001B[0m\u001B[1;33m[\u001B[0m\u001B[0mwords\u001B[0m\u001B[1;33m[\u001B[0m\u001B[1;36m0\u001B[0m\u001B[1;33m]\u001B[0m\u001B[1;33m]\u001B[0m \u001B[1;33m=\u001B[0m \u001B[0mwords\u001B[0m\u001B[1;33m[\u001B[0m\u001B[1;36m1\u001B[0m\u001B[1;33m:\u001B[0m\u001B[1;33m]\u001B[0m\u001B[1;33m\u001B[0m\u001B[1;33m\u001B[0m\u001B[0m\n\u001B[0;32m      5\u001B[0m \u001B[1;33m\u001B[0m\u001B[0m\n",
      "\u001B[1;31mNameError\u001B[0m: name 'path' is not defined"
     ],
     "output_type": "error"
    }
   ],
   "source": [
    "\n",
    "with open(path, 'r', encoding='utf-8') as f:\n",
    "    for line in f:\n",
    "        words = line.strip('\\n').lower().split(',')\n",
    "        inverted_index[words[0]] = words[1:]\n",
    "\n",
    "for word in inverted_index.keys():\n",
    "    for i in range(len(word) - 2):\n",
    "        term = word[i:i + 3]\n",
    "        if term not in trigram_index:\n",
    "            trigram_index[term] = []\n",
    "        trigram_index[term].append(word)\n"
   ]
  },
  {
   "cell_type": "code",
   "execution_count": 60,
   "metadata": {
    "collapsed": true
   },
   "outputs": [
    {
     "name": "stdout",
     "output_type": "stream",
     "text": [
      "flat late "
     ]
    }
   ],
   "source": [
    "query = 'clat'\n",
    "query_gram_set = get_gram_set(query)\n",
    "max_jac = 0\n",
    "max_word = set()\n",
    "for x in query_gram_set:\n",
    "    if x in trigram_index:\n",
    "        for y in trigram_index[x]:\n",
    "            index_gram_set = get_gram_set(y)\n",
    "            jac = get_jaccard_coefficient(query_gram_set, index_gram_set)\n",
    "            # print(x, index_gram_set, jac)\n",
    "            if max_jac < jac: \n",
    "                max_jac = jac\n",
    "                max_word = {y}\n",
    "            elif max_jac == jac:\n",
    "                max_word.add(y)\n",
    "\n",
    "for i in max_word:\n",
    "    print(i, end=' ')\n"
   ]
  },
  {
   "cell_type": "code",
   "execution_count": null,
   "metadata": {},
   "outputs": [],
   "source": []
  }
 ],
 "metadata": {
  "kernelspec": {
   "name": "python3",
   "language": "python",
   "display_name": "Python 3"
  },
  "language_info": {
   "codemirror_mode": {
    "name": "ipython",
    "version": 2
   },
   "file_extension": ".py",
   "mimetype": "text/x-python",
   "name": "python",
   "nbconvert_exporter": "python",
   "pygments_lexer": "ipython2",
   "version": "2.7.6"
  }
 },
 "nbformat": 4,
 "nbformat_minor": 0
}