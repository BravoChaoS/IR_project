{
 "cells": [
  {
   "cell_type": "code",
   "execution_count": 48,
   "metadata": {
    "collapsed": true
   },
   "outputs": [
    {
     "name": "stdout",
     "output_type": "stream",
     "text": [
      "C:/BCSpace/study/ThisSemester/IR/project/workspace/data/articles3\n",
      "fin\n"
     ]
    }
   ],
   "source": [
    "import csv\n",
    "import os\n",
    "import pickle\n",
    "import sys\n",
    "path_news = 'C:/BCSpace/study/ThisSemester/IR/project/workspace/news'\n",
    "path_data = 'C:/BCSpace/study/ThisSemester/IR/project/workspace/data/articles3'\n",
    "\n",
    "class Structure:\n",
    "    def __init__(self, name, title, publication, author, date, year, month, url, content):\n",
    "        self.name = name\n",
    "        self.title = title\n",
    "        self.publication = publication\n",
    "        self.author = author\n",
    "        self.date = date\n",
    "        self.year = year\n",
    "        self.month = month\n",
    "        self.url = url\n",
    "        self.content = content\n",
    "    def show(self):\n",
    "        print(self.name + '; ' + self.title + '; ' + self.author)\n",
    "\n",
    "\n",
    "print(path_data)\n",
    "\n",
    "file_name = 'articles3.csv'\n",
    "\n",
    "\n",
    "csv.field_size_limit(500 * 1024 * 1024)\n",
    "with open(os.path.join(path_news, file_name), mode='r', encoding='utf-8') as f:\n",
    "    f_csv = csv.reader(f)\n",
    "    cnt = 0\n",
    "\n",
    "    for row in f_csv:\n",
    "        if cnt == 0:\n",
    "            cnt = cnt + 1\n",
    "            continue\n",
    "        with open(os.path.join(path_data, row[1] + '.csv'), mode='w+', newline='\\n', encoding='utf-8') as fout:\n",
    "            fout.writelines(line+'\\n' for line in row[2:])\n",
    "        cnt = cnt + 1\n",
    "print('fin')\n"
   ]
  },
  {
   "cell_type": "code",
   "execution_count": null,
   "outputs": [],
   "source": [
    "\n"
   ],
   "metadata": {
    "collapsed": false,
    "pycharm": {
     "name": "#%%\n"
    }
   }
  }
 ],
 "metadata": {
  "kernelspec": {
   "display_name": "Python 3",
   "language": "python",
   "name": "python3"
  },
  "language_info": {
   "codemirror_mode": {
    "name": "ipython",
    "version": 2
   },
   "file_extension": ".py",
   "mimetype": "text/x-python",
   "name": "python",
   "nbconvert_exporter": "python",
   "pygments_lexer": "ipython2",
   "version": "2.7.6"
  }
 },
 "nbformat": 4,
 "nbformat_minor": 0
}