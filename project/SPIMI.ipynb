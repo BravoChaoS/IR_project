{
 "cells": [
  {
   "cell_type": "code",
   "execution_count": 1,
   "metadata": {
    "collapsed": true
   },
   "outputs": [],
   "source": [
    "# data\n",
    "import os\n",
    "\n",
    "from nltk.corpus import stopwords\n",
    "\n",
    "path_root = \"C:\\\\BCSpace\\\\study\\\\ThisSemester\\\\IR\\\\project\\\\workspace\"\n",
    "dir_source = \"test_data\"\n",
    "dir_temp = \"_temp\"  # folder name for the processed files\n",
    "fn_indexer = 'indexer.csv'    # new file to store the indexer\n",
    "fn_doc_id = 'doc_id.csv'\n",
    "fn_doc_list = 'doc_list.csv'\n",
    "fn_doc_len = 'doc_len.csv'\n",
    "\n",
    "path_source = os.path.join(path_root, dir_source)\n",
    "path_temp = os.path.join(path_root, dir_temp)\n",
    "doc_id = {}\n",
    "doc_list = []\n",
    "doc_len = {}\n",
    "indexer = {}\n",
    "\n",
    "stop_words = {'i', 'me', 'my', 'myself', 'we', \n",
    "              'our', 'ours', 'ourselves', 'you', \n",
    "              \"you're\", \"you've\", \"you'll\", \"you'd\", \n",
    "              'your', 'yours', 'yourself', 'yourselves', \n",
    "              'he', 'him', 'his', 'himself', 'she', \n",
    "              \"she's\", 'her', 'hers', 'herself', 'it', \n",
    "              \"it's\", 'its', 'itself', 'they', 'them', \n",
    "              'their', 'theirs', 'themselves', 'what', \n",
    "              'which', 'who', 'whom', 'this', 'that', \n",
    "              \"that'll\", 'these', 'those', 'am', 'is', \n",
    "              'are', 'was', 'were', 'be', 'been', \n",
    "              'being', 'have', 'has', 'had', 'having', \n",
    "              'do', 'does', 'did', 'doing', 'a', 'an', \n",
    "              'the', 'and', 'but', 'if', 'or', 'because', \n",
    "              'as', 'until', 'while', 'of', 'at', 'by', \n",
    "              'for', 'with', 'about', 'against', 'between', \n",
    "              'into', 'through', 'during', 'before', 'after', \n",
    "              'above', 'below', 'to', 'from', 'up', 'down', \n",
    "              'in', 'out', 'on', 'off', 'over', 'under', \n",
    "              'again', 'further', 'then', 'once', 'here', \n",
    "              'there', 'when', 'where', 'why', 'how', \n",
    "              'all', 'any', 'both', 'each', 'few',\n",
    "              'more', 'most', 'other', 'some', 'such', \n",
    "              'no', 'nor', 'not', 'only', 'own', \n",
    "              'same', 'so', 'than', 'too', 'very', \n",
    "              's', 't', 'can', 'will', 'just', 'don', \n",
    "              \"don't\", 'should', \"should've\", 'now', 'd', \n",
    "              'll', 'm', 'o', 're', 've', 'y', 'ain', \n",
    "              'aren', \"aren't\", 'couldn', \"couldn't\", \n",
    "              'didn', \"didn't\", 'doesn', \"doesn't\", 'hadn', \n",
    "              \"hadn't\", 'hasn', \"hasn't\", 'haven', \"haven't\", \n",
    "              'isn', \"isn't\", 'ma', 'mightn', \"mightn't\", \n",
    "              'mustn', \"mustn't\", 'needn', \"needn't\", 'shan', \n",
    "              \"shan't\", 'shouldn', \"shouldn't\", 'wasn', \n",
    "              \"wasn't\", 'weren', \"weren't\", 'won', \"won't\", \n",
    "              'wouldn', \"wouldn't\"}\n",
    "# stop_words = set(stopwords.words('english'))\n",
    "stop_words.add('s')\n"
   ]
  },
  {
   "cell_type": "code",
   "execution_count": 2,
   "metadata": {
    "collapsed": true
   },
   "outputs": [],
   "source": [
    "# Some functions\n",
    "import csv\n",
    "from math import log10\n",
    "\n",
    "from nltk import RegexpTokenizer\n",
    "import sys\n",
    "\n",
    "# Recursively finds size of objects\n",
    "def get_size(obj, seen=None):\n",
    "    size = sys.getsizeof(obj)\n",
    "    if seen is None:\n",
    "        seen = set()\n",
    "    obj_id = id(obj)\n",
    "    if obj_id in seen:\n",
    "        return 0\n",
    "    # Important mark as seen *before* entering recursion to gracefully handle\n",
    "    # self-referential objects\n",
    "    seen.add(obj_id)\n",
    "    if isinstance(obj, dict):\n",
    "        size += sum([get_size(v, seen) for v in obj.values()])\n",
    "        size += sum([get_size(k, seen) for k in obj.keys()])\n",
    "    elif hasattr(obj, '__dict__'):\n",
    "        size += get_size(obj.__dict__, seen)\n",
    "    elif hasattr(obj, '__iter__') and not isinstance(obj, (str, bytes, bytearray)):\n",
    "        size += sum([get_size(i, seen) for i in obj])\n",
    "    return size\n",
    "\n",
    "\n",
    "# tokenize\n",
    "\n",
    "def get_term_freq(textlines):\n",
    "    title = textlines[0]\n",
    "    text = textlines[7]\n",
    "    text = text.lower()\n",
    "    # word_tokenizer = RegexpTokenizer(r'\\w+|[^\\w\\s]')\n",
    "    word_tokenizer = RegexpTokenizer('[A-Za-z]+')\n",
    "    words_title = word_tokenizer.tokenize(title)\n",
    "    term_set = set(words_title).difference(stop_words)\n",
    "    term_freq = {}\n",
    "    for w in words_title:\n",
    "        if w in term_set:\n",
    "            if w in term_freq:\n",
    "                term_freq[w] = term_freq[w] + 1\n",
    "            else:\n",
    "                term_freq[w] = 1\n",
    "\n",
    "    words_text = word_tokenizer.tokenize(text)\n",
    "    term_set = set(words_text).difference(stop_words)\n",
    "    for w in words_text:\n",
    "        if w in term_set:\n",
    "            if w in term_freq:\n",
    "                term_freq[w] = term_freq[w] + 5\n",
    "            else:\n",
    "                term_freq[w] = 10\n",
    "    return term_freq, len(words_title) + len(words_text) * 5\n",
    "\n",
    "\n",
    "# store sub dictionary in .csv"
   ]
  },
  {
   "cell_type": "code",
   "execution_count": 38,
   "metadata": {
    "collapsed": true
   },
   "outputs": [],
   "source": [
    "# Calculate the indexer and store into 'indexer.csv'\n",
    "\n",
    "# get the sub dictionaries\n",
    "from sys import getsizeof\n",
    "from math import sqrt\n",
    "\n",
    "chunk_size = 15000000\n",
    "\n",
    "\n",
    "\n",
    "def process_directions():\n",
    "    indexer.clear()\n",
    "    doc_list.clear()\n",
    "    doc_id.clear()\n",
    "    doc_len.clear()\n",
    "    if not os.path.exists(path_temp):\n",
    "        os.mkdir(path_temp)\n",
    "    for root, dirs, files in os.walk(path_source):\n",
    "        for file_name in files:\n",
    "            fpn = os.path.join(root, file_name)\n",
    "            doc_list.append(fpn)\n",
    "            file_cnt = len(doc_list) - 1\n",
    "            doc_id[fpn] = file_cnt\n",
    "\n",
    "            with open(fpn, mode='r', errors='ignore', encoding='utf-8') as f:\n",
    "                text = f.readlines()\n",
    "            term_freq, d_len = get_term_freq(text)\n",
    "            doc_len[file_cnt] = d_len\n",
    "            for term, value in term_freq.items():\n",
    "                if term in indexer:\n",
    "                    indexer[term].append((file_cnt, value))\n",
    "                else:\n",
    "                    indexer[term] = [(file_cnt, value)]\n",
    "            if file_cnt % 1000 == 0:\n",
    "                print(file_cnt)\n",
    "    return indexer\n",
    "\n",
    "def dump():\n",
    "    with open(os.path.join(path_temp, fn_indexer), mode='w+', newline='', encoding='utf-8') as f:\n",
    "        f_writer = csv.writer(f)\n",
    "        for key, value in indexer.items():\n",
    "            f_writer.writerow([key] + value)\n",
    "    with open(os.path.join(path_temp, fn_doc_id), mode='w+', newline='', encoding='utf-8') as f:\n",
    "        f_writer = csv.writer(f)\n",
    "        f_writer.writerows(doc_id.items())\n",
    "    with open(os.path.join(path_temp, fn_doc_len), mode='w+', newline='', encoding='utf-8') as f:\n",
    "        f_writer = csv.writer(f)\n",
    "        f_writer.writerows(doc_len.items())\n",
    "    with open(os.path.join(path_temp, fn_doc_list), mode='w+', newline='', encoding='utf-8') as f:\n",
    "        f_writer = csv.writer(f)\n",
    "        f_writer.writerow(doc_list)\n",
    "    print('dump fin')\n",
    "\n",
    "\n",
    "# todo: load data\n",
    "def load():\n",
    "    indexer.clear()\n",
    "    doc_list.clear()\n",
    "    doc_id.clear()\n",
    "    doc_len.clear()\n",
    "\n",
    "    with open(os.path.join(path_temp, fn_indexer), mode='r', encoding='utf-8') as f:\n",
    "        f_reader = csv.reader(f)\n",
    "        for row in f_reader:\n",
    "            if len(row) > 1:\n",
    "                rlst = []\n",
    "                for tu in row[1:]:\n",
    "                    rlst.append(tuple(eval(tu)))\n",
    "                indexer[row[0]] = rlst\n",
    "\n",
    "    with open(os.path.join(path_temp, fn_doc_id), mode='r', encoding='utf-8') as f:\n",
    "        f_reader = csv.reader(f)\n",
    "        for row in f_reader:\n",
    "            doc_id[row[0]] = int(row[1])\n",
    "\n",
    "    with open(os.path.join(path_temp, fn_doc_len), mode='r', encoding='utf-8') as f:\n",
    "        f_reader = csv.reader(f)\n",
    "        for row in f_reader:\n",
    "            doc_len[int(row[0])] = int(row[1])\n",
    "\n",
    "    with open(os.path.join(path_temp, fn_doc_list), mode='r', encoding='utf-8') as f:\n",
    "        f_reader = csv.reader(f)\n",
    "        for i in f_reader:\n",
    "            doc_list.extend(i)"
   ]
  },
  {
   "cell_type": "code",
   "execution_count": 21,
   "outputs": [
    {
     "name": "stdout",
     "output_type": "stream",
     "text": [
      "0\n",
      "1000\n",
      "2000\n",
      "3000\n",
      "4000\n",
      "5000\n",
      "6000\n",
      "7000\n",
      "8000\n",
      "9000\n",
      "fin\n"
     ]
    }
   ],
   "source": [
    "process_directions()\n",
    "print('fin')"
   ],
   "metadata": {
    "collapsed": false,
    "pycharm": {
     "name": "#%%\n"
    }
   }
  },
  {
   "cell_type": "code",
   "execution_count": 28,
   "outputs": [
    {
     "name": "stdout",
     "output_type": "stream",
     "text": [
      "dump fin\n"
     ]
    }
   ],
   "source": [
    "dump()"
   ],
   "metadata": {
    "collapsed": false,
    "pycharm": {
     "name": "#%%\n"
    }
   }
  },
  {
   "cell_type": "code",
   "execution_count": 39,
   "outputs": [
    {
     "name": "stdout",
     "output_type": "stream",
     "text": [
      "108687\n"
     ]
    }
   ],
   "source": [
    "load()\n",
    "print(len(indexer))"
   ],
   "metadata": {
    "collapsed": false,
    "pycharm": {
     "name": "#%%\n"
    }
   }
  },
  {
   "cell_type": "code",
   "execution_count": 34,
   "outputs": [
    {
     "name": "stdout",
     "output_type": "stream",
     "text": [
      "851\n"
     ]
    }
   ],
   "source": [
    "print(len(indexer['china']))"
   ],
   "metadata": {
    "collapsed": false,
    "pycharm": {
     "name": "#%%\n"
    }
   }
  },
  {
   "cell_type": "code",
   "execution_count": 40,
   "metadata": {
    "collapsed": true,
    "pycharm": {
     "name": "#%%\n"
    }
   },
   "outputs": [
    {
     "name": "stdout",
     "output_type": "stream",
     "text": [
      "[(3518, 6.651367977390771), (7170, 6.559074613055792), (8209, 6.513504168965469), (3517, 6.50923573325931), (2745, 6.446951520838638), (4972, 6.402427439779354), (7442, 6.400920685978761), (7091, 6.3968569822414025), (4598, 6.387285095496244), (7652, 6.375333247431925)]\n",
      "======================\n",
      "3518;C:\\BCSpace\\study\\ThisSemester\\IR\\project\\workspace\\test_data\\articles1\\21186.csv;6.651367977390771\n",
      "title: Kohei Uchimura Leads Japan to Gymnastics Gold, Dethroning China - The New York Times\n",
      "date : 2017-02-03\n",
      "\n",
      "======================\n",
      "7170;C:\\BCSpace\\study\\ThisSemester\\IR\\project\\workspace\\test_data\\articles1\\25698.csv;6.559074613055792\n",
      "title: Without Obama, Shinzo Abe’s Approach to U.S.-Japan Ties May Be Tested - The New York Times\n",
      "date : 2017-01-05\n",
      "\n",
      "======================\n",
      "8209;C:\\BCSpace\\study\\ThisSemester\\IR\\project\\workspace\\test_data\\articles1\\26945.csv;6.513504168965469\n",
      "title: Mattis: War With North Korea Would Be ’Catastrophic’ - Breitbart\n",
      "date : 2017-05-28\n",
      "\n",
      "======================\n",
      "3517;C:\\BCSpace\\study\\ThisSemester\\IR\\project\\workspace\\test_data\\articles1\\21185.csv;6.50923573325931\n",
      "title: Rio Olympics: Drama in the Pool and a Super Tuesday - The New York Times\n",
      "date : 2016-08-18\n",
      "\n",
      "======================\n",
      "2745;C:\\BCSpace\\study\\ThisSemester\\IR\\project\\workspace\\test_data\\articles1\\20341.csv;6.446951520838638\n",
      "title: Donald Trump Says He’s Willing to Talk Directly With Kim Jong-un - The New York Times\n",
      "date : 2016-05-18\n",
      "\n",
      "======================\n",
      "4972;C:\\BCSpace\\study\\ThisSemester\\IR\\project\\workspace\\test_data\\articles1\\22804.csv;6.402427439779354\n",
      "title: Rodrigo Duterte, Aleppo, Donald Trump: Your Morning Briefing - The New York Times\n",
      "date : 2016-12-15\n",
      "\n",
      "======================\n",
      "7442;C:\\BCSpace\\study\\ThisSemester\\IR\\project\\workspace\\test_data\\articles1\\26049.csv;6.400920685978761\n",
      "title: Donald Trump, Julian Assange, Gwen Ifill: Your Tuesday Briefing - The New York Times\n",
      "date : 2016-11-15\n",
      "\n",
      "======================\n",
      "7091;C:\\BCSpace\\study\\ThisSemester\\IR\\project\\workspace\\test_data\\articles1\\25593.csv;6.3968569822414025\n",
      "title: Donald Trump, Matteo Renzi, Shinzo Abe: Your Tuesday Briefing - The New York Times\n",
      "date : 2016-12-05\n",
      "\n",
      "======================\n",
      "4598;C:\\BCSpace\\study\\ThisSemester\\IR\\project\\workspace\\test_data\\articles1\\22377.csv;6.387285095496244\n",
      "title: Donald Trump, After Fits and Starts, Focuses on Foreign Policy - The New York Times\n",
      "date : 2017-04-06\n",
      "\n",
      "======================\n",
      "7652;C:\\BCSpace\\study\\ThisSemester\\IR\\project\\workspace\\test_data\\articles1\\26328.csv;6.375333247431925\n",
      "title: Donald Trump, Russia, Rodrigo Duterte: Your Thursday Briefing - The New York Times\n",
      "date : 2016-11-10\n",
      "\n"
     ]
    }
   ],
   "source": [
    "from math import log\n",
    "\n",
    "def weighted_tf(tf, d_len, avg_len):\n",
    "    return 2 * tf / (0.25 + 0.75 * d_len / avg_len + tf)\n",
    "\n",
    "def idf(df, n):\n",
    "    if df == 0:\n",
    "        return 0\n",
    "    return log(n / df, 10)\n",
    "\n",
    "def hw3_bm25_11812420(query, doc_len = {}, dictionary = {}):\n",
    "    avg_doc_len = 0\n",
    "    doc_num = len(doc_len)\n",
    "    for dl in doc_len:\n",
    "        avg_doc_len = avg_doc_len + dl / doc_num\n",
    "\n",
    "    candidate = {}\n",
    "    for k in query:\n",
    "        df = len(dictionary[k])\n",
    "        for did, tf in dictionary[k]:\n",
    "            if did not in candidate.keys():\n",
    "                candidate[did] = 0\n",
    "            candidate[did] = candidate[did] + weighted_tf(tf, doc_len[did], avg_doc_len) * idf(df, doc_num)\n",
    "\n",
    "    candidate = sorted(candidate.items(), key= lambda x: (x[1]), reverse= True)\n",
    "    return candidate[:10]\n",
    "\n",
    "# Query\n",
    "# for v in indexer['russia']:\n",
    "#     print(doc_list[v[0]][len(path_root):], v[1])\n",
    "query_list = ['china', 'japan', 'russia']\n",
    "#\n",
    "answer = hw3_bm25_11812420(query_list, doc_len, indexer)\n",
    "print(answer)\n",
    "for fid, weight in answer:\n",
    "    print('======================')\n",
    "    print(str(fid) + ';' + doc_list[fid] + ';' + str(weight))\n",
    "    with open(doc_list[fid], mode='r', encoding='utf-8') as f:\n",
    "        text = f.readlines()\n",
    "    print('title: ' + text[0][:-1])\n",
    "    print('date : ' + text[3])\n",
    "\n",
    "\n",
    "\n",
    "\n",
    "\n"
   ]
  }
 ],
 "metadata": {
  "kernelspec": {
   "name": "python3",
   "language": "python",
   "display_name": "Python 3"
  },
  "language_info": {
   "codemirror_mode": {
    "name": "ipython",
    "version": 2
   },
   "file_extension": ".py",
   "mimetype": "text/x-python",
   "name": "python",
   "nbconvert_exporter": "python",
   "pygments_lexer": "ipython2",
   "version": "2.7.6"
  }
 },
 "nbformat": 4,
 "nbformat_minor": 0
}