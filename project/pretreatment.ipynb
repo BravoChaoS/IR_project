{
 "cells": [
  {
   "cell_type": "code",
   "execution_count": null,
   "metadata": {
    "collapsed": true
   },
   "outputs": [],
   "source": [
    "# data\n",
    "import os\n",
    "\n",
    "from nltk.corpus import stopwords\n",
    "\n",
    "with open('config', mode='r', encoding='utf-8') as cfile:\n",
    "    conf = cfile.readlines()\n",
    "    path_root = conf[0][len('path_root='):].strip()\n",
    "    dir_source = conf[1][len('dir_source='):].strip()\n",
    "    dir_temp = conf[2][len('dir_temp='):].strip()  # folder name for the processed files\n",
    "    fn_indexer = conf[3][len('fn_indexer='):].strip()    # new file to store the indexer\n",
    "    fn_doc_id = conf[4][len('fn_doc_id='):].strip()\n",
    "    fn_doc_list = conf[5][len('fn_doc_list='):].strip()\n",
    "    fn_doc_len = conf[6][len('fn_doc_len='):].strip()\n",
    "\n",
    "\n",
    "path_source = os.path.join(path_root, dir_source)\n",
    "path_temp = os.path.join(path_root, dir_temp)\n",
    "doc_id = {}\n",
    "doc_list = []\n",
    "doc_len = {}\n",
    "indexer = {}\n",
    "\n",
    "stop_words = {'i', 'me', 'my', 'myself', 'we',\n",
    "              'our', 'ours', 'ourselves', 'you',\n",
    "              \"you're\", \"you've\", \"you'll\", \"you'd\",\n",
    "              'your', 'yours', 'yourself', 'yourselves',\n",
    "              'he', 'him', 'his', 'himself', 'she',\n",
    "              \"she's\", 'her', 'hers', 'herself', 'it',\n",
    "              \"it's\", 'its', 'itself', 'they', 'them',\n",
    "              'their', 'theirs', 'themselves', 'what',\n",
    "              'which', 'who', 'whom', 'this', 'that',\n",
    "              \"that'll\", 'these', 'those', 'am', 'is',\n",
    "              'are', 'was', 'were', 'be', 'been',\n",
    "              'being', 'have', 'has', 'had', 'having',\n",
    "              'do', 'does', 'did', 'doing', 'a', 'an',\n",
    "              'the', 'and', 'but', 'if', 'or', 'because',\n",
    "              'as', 'until', 'while', 'of', 'at', 'by',\n",
    "              'for', 'with', 'about', 'against', 'between',\n",
    "              'into', 'through', 'during', 'before', 'after',\n",
    "              'above', 'below', 'to', 'from', 'up', 'down',\n",
    "              'in', 'out', 'on', 'off', 'over', 'under',\n",
    "              'again', 'further', 'then', 'once', 'here',\n",
    "              'there', 'when', 'where', 'why', 'how',\n",
    "              'all', 'any', 'both', 'each', 'few',\n",
    "              'more', 'most', 'other', 'some', 'such',\n",
    "              'no', 'nor', 'not', 'only', 'own',\n",
    "              'same', 'so', 'than', 'too', 'very',\n",
    "              's', 't', 'can', 'will', 'just', 'don',\n",
    "              \"don't\", 'should', \"should've\", 'now', 'd',\n",
    "              'll', 'm', 'o', 're', 've', 'y', 'ain',\n",
    "              'aren', \"aren't\", 'couldn', \"couldn't\",\n",
    "              'didn', \"didn't\", 'doesn', \"doesn't\", 'hadn',\n",
    "              \"hadn't\", 'hasn', \"hasn't\", 'haven', \"haven't\",\n",
    "              'isn', \"isn't\", 'ma', 'mightn', \"mightn't\",\n",
    "              'mustn', \"mustn't\", 'needn', \"needn't\", 'shan',\n",
    "              \"shan't\", 'shouldn', \"shouldn't\", 'wasn',\n",
    "              \"wasn't\", 'weren', \"weren't\", 'won', \"won't\",\n",
    "              'wouldn', \"wouldn't\"}\n",
    "# stop_words = set(stopwords.words('english'))\n",
    "stop_words.add('s')\n"
   ]
  },
  {
   "cell_type": "code",
   "execution_count": null,
   "outputs": [],
   "source": [
    "# Some functions\n",
    "import csv\n",
    "from math import log10\n",
    "\n",
    "from nltk import RegexpTokenizer\n",
    "\n",
    "# tokenize\n",
    "\n",
    "def get_term_freq(textlines):\n",
    "    title = textlines[0]\n",
    "    text = textlines[7]\n",
    "    title = title.lower()\n",
    "    text = text.lower()\n",
    "    # word_tokenizer = RegexpTokenizer(r'\\w+|[^\\w\\s]')\n",
    "    word_tokenizer = RegexpTokenizer('[A-Za-z]+')\n",
    "    words_title = word_tokenizer.tokenize(title)\n",
    "    term_set = set(words_title).difference(stop_words)\n",
    "    term_freq = {}\n",
    "    for w in words_title:\n",
    "        if w in term_set:\n",
    "            if w in term_freq:\n",
    "                term_freq[w] = term_freq[w] + 1\n",
    "            else:\n",
    "                term_freq[w] = 1\n",
    "\n",
    "    words_text = word_tokenizer.tokenize(text)\n",
    "    term_set = set(words_text).difference(stop_words)\n",
    "    for w in words_text:\n",
    "        if w in term_set:\n",
    "            if w in term_freq:\n",
    "                term_freq[w] = term_freq[w] + 5\n",
    "            else:\n",
    "                term_freq[w] = 10\n",
    "    return term_freq, len(words_title) + len(words_text) * 5\n",
    "\n",
    "\n",
    "# store sub dictionary in .csv"
   ],
   "metadata": {
    "collapsed": false,
    "pycharm": {
     "name": "#%%\n"
    }
   }
  },
  {
   "cell_type": "code",
   "execution_count": null,
   "outputs": [],
   "source": [
    "def process_directions():\n",
    "    indexer.clear()\n",
    "    doc_list.clear()\n",
    "    doc_id.clear()\n",
    "    doc_len.clear()\n",
    "    if not os.path.exists(path_temp):\n",
    "        os.mkdir(path_temp)\n",
    "    for root, dirs, files in os.walk(path_source):\n",
    "        for file_name in files:\n",
    "            fpn = os.path.join(root, file_name)\n",
    "            doc_list.append(fpn)\n",
    "            file_cnt = len(doc_list) - 1\n",
    "            doc_id[fpn] = file_cnt\n",
    "\n",
    "            with open(fpn, mode='r', errors='ignore', encoding='utf-8') as f:\n",
    "                text = f.readlines()\n",
    "            term_freq, d_len = get_term_freq(text)\n",
    "            doc_len[file_cnt] = d_len\n",
    "            for term, value in term_freq.items():\n",
    "                if term in indexer:\n",
    "                    indexer[term].append((file_cnt, value))\n",
    "                else:\n",
    "                    indexer[term] = [(file_cnt, value)]\n",
    "            if file_cnt % 1000 == 0:\n",
    "                print(file_cnt)\n",
    "    return indexer\n",
    "\n",
    "\n",
    "def dump():\n",
    "    with open(os.path.join(path_temp, fn_indexer), mode='w+', newline='', encoding='utf-8') as f:\n",
    "        f_writer = csv.writer(f)\n",
    "        for key, value in indexer.items():\n",
    "            f_writer.writerow([key] + value)\n",
    "    with open(os.path.join(path_temp, fn_doc_id), mode='w+', newline='', encoding='utf-8') as f:\n",
    "        f_writer = csv.writer(f)\n",
    "        f_writer.writerows(doc_id.items())\n",
    "    with open(os.path.join(path_temp, fn_doc_len), mode='w+', newline='', encoding='utf-8') as f:\n",
    "        f_writer = csv.writer(f)\n",
    "        f_writer.writerows(doc_len.items())\n",
    "    with open(os.path.join(path_temp, fn_doc_list), mode='w+', newline='', encoding='utf-8') as f:\n",
    "        f_writer = csv.writer(f)\n",
    "        f_writer.writerow(doc_list)\n",
    "    print('dump fin')\n"
   ],
   "metadata": {
    "collapsed": false,
    "pycharm": {
     "name": "#%%\n"
    }
   }
  },
  {
   "cell_type": "code",
   "execution_count": null,
   "outputs": [],
   "source": [
    "process_directions()\n",
    "print('fin')"
   ],
   "metadata": {
    "collapsed": false,
    "pycharm": {
     "name": "#%%\n"
    }
   }
  },
  {
   "cell_type": "code",
   "execution_count": null,
   "outputs": [],
   "source": [
    "dump()\n"
   ],
   "metadata": {
    "collapsed": false,
    "pycharm": {
     "name": "#%%\n"
    }
   }
  }
 ],
 "metadata": {
  "kernelspec": {
   "display_name": "Python 3",
   "language": "python",
   "name": "python3"
  },
  "language_info": {
   "codemirror_mode": {
    "name": "ipython",
    "version": 2
   },
   "file_extension": ".py",
   "mimetype": "text/x-python",
   "name": "python",
   "nbconvert_exporter": "python",
   "pygments_lexer": "ipython2",
   "version": "2.7.6"
  }
 },
 "nbformat": 4,
 "nbformat_minor": 0
}